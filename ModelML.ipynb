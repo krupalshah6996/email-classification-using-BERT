{
  "nbformat": 4,
  "nbformat_minor": 0,
  "metadata": {
    "colab": {
      "name": "Model.ipynb",
      "provenance": [],
      "collapsed_sections": []
    },
    "kernelspec": {
      "name": "python3",
      "display_name": "Python 3"
    },
    "accelerator": "GPU"
  },
  "cells": [
    {
      "cell_type": "code",
      "metadata": {
        "id": "uxsTkm4YlrpD",
        "colab_type": "code",
        "colab": {}
      },
      "source": [
        "from google.colab import drive\n",
        "drive.mount('/content/drive')"
      ],
      "execution_count": 0,
      "outputs": []
    },
    {
      "cell_type": "markdown",
      "metadata": {
        "id": "3fvtXb6-Kv0k",
        "colab_type": "text"
      },
      "source": [
        "**User Email Classification using Machine Learning Techniques**"
      ]
    },
    {
      "cell_type": "code",
      "metadata": {
        "id": "U_jEFwhhNMVi",
        "colab_type": "code",
        "colab": {}
      },
      "source": [
        "#Importing Dependencies\n",
        "import numpy as np\n",
        "import pandas as pd\n",
        "import re\n",
        "import random\n",
        "import email\n",
        "import nltk\n",
        "nltk.download('stopwords')\n",
        "from nltk.corpus import stopwords\n",
        "import matplotlib.pyplot as plt\n",
        "%matplotlib inline\n",
        "from sklearn.feature_extraction.text import TfidfVectorizer, CountVectorizer\n",
        "from sklearn.linear_model import LogisticRegression, SGDClassifier\n",
        "from sklearn import metrics \n",
        "from sklearn.feature_selection import SelectFromModel\n",
        "from sklearn.svm import LinearSVC\n",
        "from sklearn.model_selection import cross_val_score\n",
        "from sklearn.model_selection import train_test_split\n",
        "from sklearn.decomposition import TruncatedSVD\n",
        "from sklearn.ensemble import RandomForestClassifier\n",
        "from sklearn.naive_bayes import MultinomialNB"
      ],
      "execution_count": 0,
      "outputs": []
    },
    {
      "cell_type": "code",
      "metadata": {
        "id": "mJK7U1qVNfRz",
        "colab_type": "code",
        "colab": {}
      },
      "source": [
        "#Reading the dataset\n",
        "dataset = pd.read_csv('/content/drive/My Drive/ALDA_Project/emails.csv')"
      ],
      "execution_count": 0,
      "outputs": []
    },
    {
      "cell_type": "code",
      "metadata": {
        "id": "rDxwg8xCQajw",
        "colab_type": "code",
        "colab": {}
      },
      "source": [
        "#Printing out the dataset \n",
        "dataset.head(10)"
      ],
      "execution_count": 0,
      "outputs": []
    },
    {
      "cell_type": "code",
      "metadata": {
        "id": "OFtZwcshQjgu",
        "colab_type": "code",
        "colab": {}
      },
      "source": [
        "#Preprocessig dataset\n",
        "dataset_sent_mails = dataset[dataset['file'].str.contains('sent')]\n",
        "print(dataset_sent_mails.head())"
      ],
      "execution_count": 0,
      "outputs": []
    },
    {
      "cell_type": "code",
      "metadata": {
        "id": "vtVHWtOlXSNf",
        "colab_type": "code",
        "colab": {}
      },
      "source": [
        "#Selecting top 15 users who has most number of sent emails\n",
        "dataset_sent_mails = dataset_sent_mails.assign(sender=dataset_sent_mails[\"file\"].map(lambda x: re.search(\"(.*)/.*sent\", x).group(1)).values)\n",
        "dataset_sent_mails.drop(\"file\", axis=1, inplace=True)\n",
        "print(dataset_sent_mails[\"sender\"].value_counts().head(15))\n",
        "x = dataset_sent_mails[\"sender\"].value_counts().head(15)"
      ],
      "execution_count": 0,
      "outputs": []
    },
    {
      "cell_type": "code",
      "metadata": {
        "id": "He-nk5RAKaiz",
        "colab_type": "code",
        "colab": {}
      },
      "source": [
        "temp = {}\n",
        "for i in dataset_sent_mails['sender']:\n",
        "  temp[i]=0\n",
        "# temp = temp.unique()"
      ],
      "execution_count": 0,
      "outputs": []
    },
    {
      "cell_type": "code",
      "metadata": {
        "id": "DLxOeIQfL9Om",
        "colab_type": "code",
        "colab": {}
      },
      "source": [
        "for i in dataset_sent_mails['sender']:\n",
        "  temp[i] += 1\n",
        "new_list = sorted(list(zip(list(temp.values()), list(temp.keys()))), reverse = True)[:15]\n",
        "num, mailer = zip(*new_list) \n",
        "mail = range(len(new_list))\n",
        "plt.bar(mail, num, align = 'center', color ='blue', alpha=0.8)\n",
        "plt.xticks(mail, mailer, rotation='vertical')\n",
        "plt.show()\n"
      ],
      "execution_count": 0,
      "outputs": []
    },
    {
      "cell_type": "code",
      "metadata": {
        "id": "ewUfEGHeX_bE",
        "colab_type": "code",
        "colab": {}
      },
      "source": [
        "users = dataset_sent_mails[\"sender\"].value_counts().head(15).index.values\n",
        "mapping = {}\n",
        "for i, user in enumerate(users, start = 1):\n",
        "  mapping[user] = i\n",
        "sent_user_dataset = dataset_sent_mails[dataset_sent_mails.sender.isin(users)]\n",
        "print(sent_user_dataset.shape)"
      ],
      "execution_count": 0,
      "outputs": []
    },
    {
      "cell_type": "code",
      "metadata": {
        "id": "4lXCM3OlfR48",
        "colab_type": "code",
        "colab": {}
      },
      "source": [
        "#Function for preprocessing emails for creating a proper structured dataset \n",
        "def email_preprocessing(email_message):\n",
        "    msg = email.message_from_string(email_message)\n",
        "    \n",
        "    email_content = []\n",
        "    for part in msg.walk():\n",
        "        if part.get_content_type() == 'text/plain':\n",
        "            email_content.append(part.get_payload())\n",
        "            \n",
        "    result = {}\n",
        "    for key in msg.keys(): \n",
        "        result[key] = msg[key]\n",
        "    result[\"content\"] = ''.join(email_content)\n",
        "    # msg[\"content\"] = ''.join(email_content)\n",
        "    return result\n",
        "\n",
        "#Function for preprocessing of text data\n",
        "def content_preprocessing(content):\n",
        "    content = re.sub(\"[^a-zA-Z]\",\" \", content)\n",
        "    words = content.lower().split()\n",
        "    stops = set(stopwords.words(\"english\"))\n",
        "    words = [w for w in words if not w in stops]\n",
        "\n",
        "    return ' '.join(words)"
      ],
      "execution_count": 0,
      "outputs": []
    },
    {
      "cell_type": "code",
      "metadata": {
        "id": "eRlAmedaDTbY",
        "colab_type": "code",
        "colab": {}
      },
      "source": [
        "final_data = pd.DataFrame(list(map(email_preprocessing, sent_user_dataset.message)))\n",
        "final_data.head(5)"
      ],
      "execution_count": 0,
      "outputs": []
    },
    {
      "cell_type": "code",
      "metadata": {
        "id": "St3CkC4qDjPs",
        "colab_type": "code",
        "colab": {}
      },
      "source": [
        "#We mainly need the content of the emails for classification. It can be scaled to include other features as well\n",
        "final_data = pd.DataFrame(list(map(content_preprocessing, final_data[['Subject', 'content']].apply(lambda x: ' '.join(x), axis=1))), columns = [\"content\"])\n",
        "# final_data.head()\n",
        "final_data = final_data.assign(user_number= sent_user_dataset[\"sender\"].values)\n",
        "final_data = final_data.replace({'user_number': mapping})\n",
        "final_data.head()"
      ],
      "execution_count": 0,
      "outputs": []
    },
    {
      "cell_type": "code",
      "metadata": {
        "id": "1Ly181VnGylq",
        "colab_type": "code",
        "colab": {}
      },
      "source": [
        "#Splitting the data into training and testing\n",
        "X = final_data.content.values\n",
        "y = final_data.user_number.values\n",
        "X_train, X_test, y_train, y_test = train_test_split(X, y, test_size=0.2)"
      ],
      "execution_count": 0,
      "outputs": []
    },
    {
      "cell_type": "code",
      "metadata": {
        "id": "gMHYGOMdH_z2",
        "colab_type": "code",
        "colab": {}
      },
      "source": [
        "#Processing the text data and creating TFId vector of each text\n",
        "vect = TfidfVectorizer(sublinear_tf=True, use_idf=True)\n",
        "X_train = vect.fit_transform(X_train)\n",
        "X_test = vect.transform(X_test)"
      ],
      "execution_count": 0,
      "outputs": []
    },
    {
      "cell_type": "code",
      "metadata": {
        "id": "pohMupfGN6fW",
        "colab_type": "code",
        "colab": {}
      },
      "source": [
        "#Performing feature selection and finding out the best model for our classfication task\n",
        "clf = LogisticRegression()\n",
        "clf.fit(X_train, y_train)\n",
        "model = SelectFromModel(clf, prefit=True)\n",
        "X_train_new = model.transform(X_train)\n",
        "classifier_str = [\"LinearSVC\", \"SGDClassifier\"]\n",
        "classifier_main = [LinearSVC, SGDClassifier]\n",
        "for classifier_str,classifier in zip(classifier_str, classifier_main):\n",
        "    print(\"Classifier: \" + str(classifier_str) +\",  Cross validation Accuracy: \" + str(cross_val_score(classifier(), X_train_new, y_train, cv=3).mean()))"
      ],
      "execution_count": 0,
      "outputs": []
    },
    {
      "cell_type": "code",
      "metadata": {
        "id": "SO0trrf3UwvH",
        "colab_type": "code",
        "colab": {}
      },
      "source": [
        "#Mapping for preprocessing all users\n",
        "\n",
        "users = dataset_sent_mails[\"sender\"].value_counts().index.values\n",
        "mapping = {}\n",
        "for i, user in enumerate(users, start = 1):\n",
        "  \n",
        "  mapping[user] = i\n",
        "sent_user_dataset = dataset_sent_mails\n",
        "final_data = pd.DataFrame(list(map(email_preprocessing, sent_user_dataset.message)))"
      ],
      "execution_count": 0,
      "outputs": []
    },
    {
      "cell_type": "code",
      "metadata": {
        "id": "F1s3yKlvyaFP",
        "colab_type": "code",
        "colab": {}
      },
      "source": [
        "final_data = pd.DataFrame(list(map(content_preprocessing, final_data[['Subject', 'content']].apply(lambda x: ' '.join(x), axis=1))), columns = [\"content\"])\n",
        "# final_data.head()\n",
        "final_data = final_data.assign(user_number= sent_user_dataset[\"sender\"].values)\n",
        "final_data = final_data.replace({'user_number': mapping})\n",
        "final_data.head()"
      ],
      "execution_count": 0,
      "outputs": []
    },
    {
      "cell_type": "code",
      "metadata": {
        "id": "q-dGOtJJy6YS",
        "colab_type": "code",
        "colab": {}
      },
      "source": [
        "X = final_data.content.values\n",
        "y = final_data.user_number.values\n",
        "X_train, X_test, y_train, y_test = train_test_split(X, y, test_size=0.2)\n",
        "vect = TfidfVectorizer(ngram_range = (2,3),sublinear_tf=True, use_idf=True)\n",
        "X_train = vect.fit_transform(X_train)\n",
        "X_test = vect.transform(X_test)\n",
        "clf = LogisticRegression()\n",
        "clf.fit(X_train, y_train)\n",
        "model = SelectFromModel(clf, prefit=True)\n",
        "X_train_new = model.transform(X_train)\n",
        "for classifier in [LinearSVC, SGDClassifier, RandomForestClassifier, MultinomialNB]:\n",
        "    print(cross_val_score(classifier(), X_train_new, y_train, cv=3).mean())"
      ],
      "execution_count": 0,
      "outputs": []
    },
    {
      "cell_type": "code",
      "metadata": {
        "id": "Yu24ZCRa9FGp",
        "colab_type": "code",
        "colab": {}
      },
      "source": [
        "#Testing the best on test data\n",
        "X = final_data.content.values\n",
        "y = final_data.user_number.values\n",
        "X_train, X_test, y_train, y_test = train_test_split(X, y, test_size=0.2)\n",
        "vect = TfidfVectorizer(sublinear_tf=True, use_idf=True)\n",
        "X_train = vect.fit_transform(X_train)\n",
        "X_test = vect.transform(X_test)\n",
        "clf = LogisticRegression()\n",
        "clf.fit(X_train, y_train)\n",
        "model = SelectFromModel(clf, prefit=True)\n",
        "X_train_new = model.transform(X_train)\n",
        "classifier = LinearSVC(C = 1, max_iter=500)\n",
        "classifier.fit(X_train_new, y_train)\n",
        "X_test_ = model.transform(X_test)\n",
        "y_predicted = classifier.predict(X_test_)\n",
        "print(\"Accuracy: \",metrics.accuracy_score(y_test, y_predicted))"
      ],
      "execution_count": 0,
      "outputs": []
    },
    {
      "cell_type": "code",
      "metadata": {
        "id": "R6QnJpLTURsF",
        "colab_type": "code",
        "colab": {}
      },
      "source": [
        "#Testing the best on test data\n",
        "classifier = SGDClassifier()\n",
        "classifier.fit(X_train_new, y_train)\n",
        "X_test_ = model.transform(X_test)\n",
        "y_predicted = classifier.predict(X_test_)\n",
        "print(\"Accuracy: \",metrics.accuracy_score(y_test, y_predicted))"
      ],
      "execution_count": 0,
      "outputs": []
    },
    {
      "cell_type": "code",
      "metadata": {
        "id": "lbnXFbB3URyZ",
        "colab_type": "code",
        "colab": {}
      },
      "source": [
        "classifier = RandomForestClassifier()\n",
        "classifier.fit(X_train_new, y_train)\n",
        "X_test_ = model.transform(X_test)\n",
        "y_predicted = classifier.predict(X_test_)\n",
        "print(\"Accuracy: \",metrics.accuracy_score(y_test, y_predicted))"
      ],
      "execution_count": 0,
      "outputs": []
    },
    {
      "cell_type": "code",
      "metadata": {
        "id": "fYOAGYV1Uy4j",
        "colab_type": "code",
        "colab": {}
      },
      "source": [
        "classifier = MultinomialNB()\n",
        "classifier.fit(X_train_new, y_train)\n",
        "X_test_ = model.transform(X_test)\n",
        "y_predicted = classifier.predict(X_test_)\n",
        "print(\"Accuracy: \",metrics.accuracy_score(y_test, y_predicted))"
      ],
      "execution_count": 0,
      "outputs": []
    },
    {
      "cell_type": "code",
      "metadata": {
        "id": "ZL8n7Qyn9sEg",
        "colab_type": "code",
        "colab": {}
      },
      "source": [
        "#Experimenting on truncatedSVD for feature selection\n",
        "tsvd = TruncatedSVD(n_components = 120)\n",
        "X_train_pca = tsvd.fit_transform(X_train)\n",
        "X_test_pca = tsvd.transform(X_test)\n",
        "\n",
        "clf = LinearSVC()\n",
        "clf.fit(X_train_pca, y_train)\n",
        "\n",
        "print(\"Accuracy: \",metrics.accuracy_score(y_test, clf.predict(X_test_pca)))"
      ],
      "execution_count": 0,
      "outputs": []
    },
    {
      "cell_type": "code",
      "metadata": {
        "id": "AHNupqGXVNgQ",
        "colab_type": "code",
        "colab": {}
      },
      "source": [
        "count_vect = CountVectorizer()\n",
        "X = final_data.content.values\n",
        "y = final_data.user_number.values\n",
        "X_train, X_test, y_train, y_test = train_test_split(X, y, test_size=0.2)\n",
        "# vect = TfidfVectorizer(ngram_range = (2,3),sublinear_tf=True, use_idf=True)\n",
        "X_train = count_vect.fit_transform(X_train)\n",
        "X_test = count_vect.transform(X_test)\n",
        "clf = LogisticRegression()\n",
        "clf.fit(X_train, y_train)\n",
        "model = SelectFromModel(clf, prefit=True)\n",
        "X_train_new = model.transform(X_train)\n",
        "for classifier in [LinearSVC, SGDClassifier, RandomForestClassifier, MultinomialNB]:\n",
        "    print(cross_val_score(classifier(), X_train_new, y_train, cv=3).mean())"
      ],
      "execution_count": 0,
      "outputs": []
    },
    {
      "cell_type": "code",
      "metadata": {
        "id": "eBYieQPbuvj0",
        "colab_type": "code",
        "colab": {}
      },
      "source": [
        "#Performing Grid Search\n",
        "from sklearn.model_selection import GridSearchCV\n",
        "X = final_data.content.values\n",
        "y = final_data.user_number.values\n",
        "X_train, X_test, y_train, y_test = train_test_split(X, y, test_size=0.2)\n",
        "vect = TfidfVectorizer(sublinear_tf=True, use_idf=True)\n",
        "X_train = vect.fit_transform(X_train)\n",
        "X_test = vect.transform(X_test)\n",
        "clf = LogisticRegression()\n",
        "clf.fit(X_train, y_train)\n",
        "model = SelectFromModel(clf, prefit=True)\n",
        "X_train_new = model.transform(X_train)\n",
        "# X_train_pca = tsvd.fit_transform(X_train)\n",
        "\n",
        "parameters = {'C':[0.1, 0.3, 0.5, 1], 'max_iter':[500,1000,2000,3000],'penalty':['l1','l2']}\n",
        "clf = GridSearchCV(LinearSVC(), parameters, cv = 3)\n",
        "clf.fit(X_train_new, y_train)\n",
        "\n",
        "# clf.grid_scores_"
      ],
      "execution_count": 0,
      "outputs": []
    },
    {
      "cell_type": "code",
      "metadata": {
        "id": "fHF1_IyOIKpk",
        "colab_type": "code",
        "colab": {}
      },
      "source": [
        "clf.best_score_"
      ],
      "execution_count": 0,
      "outputs": []
    },
    {
      "cell_type": "code",
      "metadata": {
        "id": "mfI9XZc9ZSRJ",
        "colab_type": "code",
        "colab": {}
      },
      "source": [
        "clf.cv_results_"
      ],
      "execution_count": 0,
      "outputs": []
    },
    {
      "cell_type": "code",
      "metadata": {
        "id": "tI3h3Sf5tUAQ",
        "colab_type": "code",
        "colab": {}
      },
      "source": [
        ""
      ],
      "execution_count": 0,
      "outputs": []
    }
  ]
}