{
  "nbformat": 4,
  "nbformat_minor": 0,
  "metadata": {
    "colab": {
      "name": "Model.ipynb",
      "provenance": [],
      "collapsed_sections": []
    },
    "kernelspec": {
      "name": "python3",
      "display_name": "Python 3"
    }
  },
  "cells": [
    {
      "cell_type": "code",
      "metadata": {
        "id": "uxsTkm4YlrpD",
        "colab_type": "code",
        "outputId": "a459f9d8-a95d-40de-c68b-67ba8aaffcb2",
        "colab": {
          "base_uri": "https://localhost:8080/",
          "height": 122
        }
      },
      "source": [
        "from google.colab import drive\n",
        "drive.mount('/content/drive')"
      ],
      "execution_count": 3,
      "outputs": [
        {
          "output_type": "stream",
          "text": [
            "Go to this URL in a browser: https://accounts.google.com/o/oauth2/auth?client_id=947318989803-6bn6qk8qdgf4n4g3pfee6491hc0brc4i.apps.googleusercontent.com&redirect_uri=urn%3aietf%3awg%3aoauth%3a2.0%3aoob&response_type=code&scope=email%20https%3a%2f%2fwww.googleapis.com%2fauth%2fdocs.test%20https%3a%2f%2fwww.googleapis.com%2fauth%2fdrive%20https%3a%2f%2fwww.googleapis.com%2fauth%2fdrive.photos.readonly%20https%3a%2f%2fwww.googleapis.com%2fauth%2fpeopleapi.readonly\n",
            "\n",
            "Enter your authorization code:\n",
            "··········\n",
            "Mounted at /content/drive\n"
          ],
          "name": "stdout"
        }
      ]
    },
    {
      "cell_type": "markdown",
      "metadata": {
        "id": "3fvtXb6-Kv0k",
        "colab_type": "text"
      },
      "source": [
        "**User Email Classification using Machine Learning Techniques**"
      ]
    },
    {
      "cell_type": "code",
      "metadata": {
        "id": "U_jEFwhhNMVi",
        "colab_type": "code",
        "outputId": "1ab754e0-bdb7-470f-db17-177768c8a7a7",
        "colab": {
          "base_uri": "https://localhost:8080/",
          "height": 51
        }
      },
      "source": [
        "#Importing Dependencies\n",
        "import numpy as np\n",
        "import pandas as pd\n",
        "import re\n",
        "import random\n",
        "import email\n",
        "import nltk\n",
        "nltk.download('stopwords')\n",
        "from nltk.corpus import stopwords\n",
        "from sklearn.feature_extraction.text import TfidfVectorizer, CountVectorizer\n",
        "from sklearn.linear_model import LogisticRegression, SGDClassifier\n",
        "from sklearn import metrics \n",
        "from sklearn.feature_selection import SelectFromModel\n",
        "from sklearn.svm import LinearSVC\n",
        "from sklearn.model_selection import cross_val_score\n",
        "from sklearn.model_selection import train_test_split\n",
        "from sklearn.decomposition import TruncatedSVD\n"
      ],
      "execution_count": 1,
      "outputs": [
        {
          "output_type": "stream",
          "text": [
            "[nltk_data] Downloading package stopwords to /root/nltk_data...\n",
            "[nltk_data]   Unzipping corpora/stopwords.zip.\n"
          ],
          "name": "stdout"
        }
      ]
    },
    {
      "cell_type": "code",
      "metadata": {
        "id": "mJK7U1qVNfRz",
        "colab_type": "code",
        "colab": {}
      },
      "source": [
        "#Reading the dataset\n",
        "dataset = pd.read_csv('/content/drive/My Drive/ALDA_Project/emails.csv')"
      ],
      "execution_count": 0,
      "outputs": []
    },
    {
      "cell_type": "code",
      "metadata": {
        "id": "rDxwg8xCQajw",
        "colab_type": "code",
        "outputId": "de8e0070-dcef-4a45-e111-60b21c6a6eeb",
        "colab": {
          "base_uri": "https://localhost:8080/",
          "height": 359
        }
      },
      "source": [
        "#Printing out the dataset \n",
        "dataset.head(10)"
      ],
      "execution_count": 5,
      "outputs": [
        {
          "output_type": "execute_result",
          "data": {
            "text/html": [
              "<div>\n",
              "<style scoped>\n",
              "    .dataframe tbody tr th:only-of-type {\n",
              "        vertical-align: middle;\n",
              "    }\n",
              "\n",
              "    .dataframe tbody tr th {\n",
              "        vertical-align: top;\n",
              "    }\n",
              "\n",
              "    .dataframe thead th {\n",
              "        text-align: right;\n",
              "    }\n",
              "</style>\n",
              "<table border=\"1\" class=\"dataframe\">\n",
              "  <thead>\n",
              "    <tr style=\"text-align: right;\">\n",
              "      <th></th>\n",
              "      <th>file</th>\n",
              "      <th>message</th>\n",
              "    </tr>\n",
              "  </thead>\n",
              "  <tbody>\n",
              "    <tr>\n",
              "      <th>0</th>\n",
              "      <td>allen-p/_sent_mail/1.</td>\n",
              "      <td>Message-ID: &lt;18782981.1075855378110.JavaMail.e...</td>\n",
              "    </tr>\n",
              "    <tr>\n",
              "      <th>1</th>\n",
              "      <td>allen-p/_sent_mail/10.</td>\n",
              "      <td>Message-ID: &lt;15464986.1075855378456.JavaMail.e...</td>\n",
              "    </tr>\n",
              "    <tr>\n",
              "      <th>2</th>\n",
              "      <td>allen-p/_sent_mail/100.</td>\n",
              "      <td>Message-ID: &lt;24216240.1075855687451.JavaMail.e...</td>\n",
              "    </tr>\n",
              "    <tr>\n",
              "      <th>3</th>\n",
              "      <td>allen-p/_sent_mail/1000.</td>\n",
              "      <td>Message-ID: &lt;13505866.1075863688222.JavaMail.e...</td>\n",
              "    </tr>\n",
              "    <tr>\n",
              "      <th>4</th>\n",
              "      <td>allen-p/_sent_mail/1001.</td>\n",
              "      <td>Message-ID: &lt;30922949.1075863688243.JavaMail.e...</td>\n",
              "    </tr>\n",
              "    <tr>\n",
              "      <th>5</th>\n",
              "      <td>allen-p/_sent_mail/1002.</td>\n",
              "      <td>Message-ID: &lt;30965995.1075863688265.JavaMail.e...</td>\n",
              "    </tr>\n",
              "    <tr>\n",
              "      <th>6</th>\n",
              "      <td>allen-p/_sent_mail/1003.</td>\n",
              "      <td>Message-ID: &lt;16254169.1075863688286.JavaMail.e...</td>\n",
              "    </tr>\n",
              "    <tr>\n",
              "      <th>7</th>\n",
              "      <td>allen-p/_sent_mail/1004.</td>\n",
              "      <td>Message-ID: &lt;17189699.1075863688308.JavaMail.e...</td>\n",
              "    </tr>\n",
              "    <tr>\n",
              "      <th>8</th>\n",
              "      <td>allen-p/_sent_mail/101.</td>\n",
              "      <td>Message-ID: &lt;20641191.1075855687472.JavaMail.e...</td>\n",
              "    </tr>\n",
              "    <tr>\n",
              "      <th>9</th>\n",
              "      <td>allen-p/_sent_mail/102.</td>\n",
              "      <td>Message-ID: &lt;30795301.1075855687494.JavaMail.e...</td>\n",
              "    </tr>\n",
              "  </tbody>\n",
              "</table>\n",
              "</div>"
            ],
            "text/plain": [
              "                       file                                            message\n",
              "0     allen-p/_sent_mail/1.  Message-ID: <18782981.1075855378110.JavaMail.e...\n",
              "1    allen-p/_sent_mail/10.  Message-ID: <15464986.1075855378456.JavaMail.e...\n",
              "2   allen-p/_sent_mail/100.  Message-ID: <24216240.1075855687451.JavaMail.e...\n",
              "3  allen-p/_sent_mail/1000.  Message-ID: <13505866.1075863688222.JavaMail.e...\n",
              "4  allen-p/_sent_mail/1001.  Message-ID: <30922949.1075863688243.JavaMail.e...\n",
              "5  allen-p/_sent_mail/1002.  Message-ID: <30965995.1075863688265.JavaMail.e...\n",
              "6  allen-p/_sent_mail/1003.  Message-ID: <16254169.1075863688286.JavaMail.e...\n",
              "7  allen-p/_sent_mail/1004.  Message-ID: <17189699.1075863688308.JavaMail.e...\n",
              "8   allen-p/_sent_mail/101.  Message-ID: <20641191.1075855687472.JavaMail.e...\n",
              "9   allen-p/_sent_mail/102.  Message-ID: <30795301.1075855687494.JavaMail.e..."
            ]
          },
          "metadata": {
            "tags": []
          },
          "execution_count": 5
        }
      ]
    },
    {
      "cell_type": "code",
      "metadata": {
        "id": "OFtZwcshQjgu",
        "colab_type": "code",
        "colab": {
          "base_uri": "https://localhost:8080/",
          "height": 119
        },
        "outputId": "ad4430e6-9a2c-476b-b674-683299c0f7d5"
      },
      "source": [
        "#Preprocessig dataset\n",
        "dataset_sent_mails = dataset[dataset['file'].str.contains('sent')]\n",
        "print(dataset_sent_mails.head())"
      ],
      "execution_count": 6,
      "outputs": [
        {
          "output_type": "stream",
          "text": [
            "                       file                                            message\n",
            "0     allen-p/_sent_mail/1.  Message-ID: <18782981.1075855378110.JavaMail.e...\n",
            "1    allen-p/_sent_mail/10.  Message-ID: <15464986.1075855378456.JavaMail.e...\n",
            "2   allen-p/_sent_mail/100.  Message-ID: <24216240.1075855687451.JavaMail.e...\n",
            "3  allen-p/_sent_mail/1000.  Message-ID: <13505866.1075863688222.JavaMail.e...\n",
            "4  allen-p/_sent_mail/1001.  Message-ID: <30922949.1075863688243.JavaMail.e...\n"
          ],
          "name": "stdout"
        }
      ]
    },
    {
      "cell_type": "code",
      "metadata": {
        "id": "vtVHWtOlXSNf",
        "colab_type": "code",
        "outputId": "2e6863e7-5e47-4780-a62d-544590b6f4f4",
        "colab": {
          "base_uri": "https://localhost:8080/",
          "height": 289
        }
      },
      "source": [
        "#Selecting top 15 users who has most number of sent emails\n",
        "dataset_sent_mails = dataset_sent_mails.assign(sender=dataset_sent_mails[\"file\"].map(lambda x: re.search(\"(.*)/.*sent\", x).group(1)).values)\n",
        "dataset_sent_mails.drop(\"file\", axis=1, inplace=True)\n",
        "print(dataset_sent_mails[\"sender\"].value_counts().head(15))\n"
      ],
      "execution_count": 7,
      "outputs": [
        {
          "output_type": "stream",
          "text": [
            "mann-k           8926\n",
            "kaminski-v       8644\n",
            "dasovich-j       5366\n",
            "germany-c        5128\n",
            "shackleton-s     4407\n",
            "jones-t          4123\n",
            "bass-e           3030\n",
            "lenhart-m        2759\n",
            "beck-s           2674\n",
            "symes-k          2649\n",
            "scott-s          2602\n",
            "taylor-m         2409\n",
            "love-p           2371\n",
            "arnold-j         2353\n",
            "perlingiere-d    2352\n",
            "Name: sender, dtype: int64\n"
          ],
          "name": "stdout"
        }
      ]
    },
    {
      "cell_type": "code",
      "metadata": {
        "id": "ewUfEGHeX_bE",
        "colab_type": "code",
        "outputId": "5c56ac95-8a90-4ec3-c1ae-4c23dda7bec3",
        "colab": {
          "base_uri": "https://localhost:8080/",
          "height": 34
        }
      },
      "source": [
        "users = dataset_sent_mails[\"sender\"].value_counts().head(15).index.values\n",
        "mapping = {}\n",
        "for i, user in enumerate(users, start = 1):\n",
        "  mapping[user] = i\n",
        "sent_user_dataset = dataset_sent_mails[dataset_sent_mails.sender.isin(users)]\n",
        "print(sent_user_dataset.shape)"
      ],
      "execution_count": 8,
      "outputs": [
        {
          "output_type": "stream",
          "text": [
            "(59793, 2)\n"
          ],
          "name": "stdout"
        }
      ]
    },
    {
      "cell_type": "code",
      "metadata": {
        "id": "4lXCM3OlfR48",
        "colab_type": "code",
        "colab": {}
      },
      "source": [
        "#Function for preprocessing emails for creating a proper structured dataset \n",
        "def email_preprocessing(email_message):\n",
        "    msg = email.message_from_string(email_message)\n",
        "    \n",
        "    email_content = []\n",
        "    for part in msg.walk():\n",
        "        if part.get_content_type() == 'text/plain':\n",
        "            email_content.append(part.get_payload())\n",
        "            \n",
        "    result = {}\n",
        "    for key in msg.keys(): \n",
        "        result[key] = msg[key]\n",
        "    result[\"content\"] = ''.join(email_content)\n",
        "    # msg[\"content\"] = ''.join(email_content)\n",
        "    return result\n",
        "\n",
        "#Function for preprocessing of text data\n",
        "def content_preprocessing(content):\n",
        "    content = re.sub(\"[^a-zA-Z]\",\" \", content)\n",
        "    words = content.lower().split()\n",
        "    stops = set(stopwords.words(\"english\"))\n",
        "    words = [w for w in words if not w in stops]\n",
        "\n",
        "    return ' '.join(words)"
      ],
      "execution_count": 0,
      "outputs": []
    },
    {
      "cell_type": "code",
      "metadata": {
        "id": "eRlAmedaDTbY",
        "colab_type": "code",
        "outputId": "edd5df40-43af-43f2-ba22-d35e3428643b",
        "colab": {
          "base_uri": "https://localhost:8080/",
          "height": 683
        }
      },
      "source": [
        "final_data = pd.DataFrame(list(map(email_preprocessing, sent_user_dataset.message)))\n",
        "final_data.head(5)"
      ],
      "execution_count": 10,
      "outputs": [
        {
          "output_type": "execute_result",
          "data": {
            "text/html": [
              "<div>\n",
              "<style scoped>\n",
              "    .dataframe tbody tr th:only-of-type {\n",
              "        vertical-align: middle;\n",
              "    }\n",
              "\n",
              "    .dataframe tbody tr th {\n",
              "        vertical-align: top;\n",
              "    }\n",
              "\n",
              "    .dataframe thead th {\n",
              "        text-align: right;\n",
              "    }\n",
              "</style>\n",
              "<table border=\"1\" class=\"dataframe\">\n",
              "  <thead>\n",
              "    <tr style=\"text-align: right;\">\n",
              "      <th></th>\n",
              "      <th>Message-ID</th>\n",
              "      <th>Date</th>\n",
              "      <th>From</th>\n",
              "      <th>To</th>\n",
              "      <th>Subject</th>\n",
              "      <th>Mime-Version</th>\n",
              "      <th>Content-Type</th>\n",
              "      <th>Content-Transfer-Encoding</th>\n",
              "      <th>X-From</th>\n",
              "      <th>X-To</th>\n",
              "      <th>X-cc</th>\n",
              "      <th>X-bcc</th>\n",
              "      <th>X-Folder</th>\n",
              "      <th>X-Origin</th>\n",
              "      <th>X-FileName</th>\n",
              "      <th>content</th>\n",
              "      <th>Cc</th>\n",
              "      <th>Bcc</th>\n",
              "    </tr>\n",
              "  </thead>\n",
              "  <tbody>\n",
              "    <tr>\n",
              "      <th>0</th>\n",
              "      <td>&lt;33025919.1075857594206.JavaMail.evans@thyme&gt;</td>\n",
              "      <td>Wed, 13 Dec 2000 13:09:00 -0800 (PST)</td>\n",
              "      <td>john.arnold@enron.com</td>\n",
              "      <td>slafontaine@globalp.com</td>\n",
              "      <td>re:spreads</td>\n",
              "      <td>1.0</td>\n",
              "      <td>text/plain; charset=us-ascii</td>\n",
              "      <td>7bit</td>\n",
              "      <td>John Arnold</td>\n",
              "      <td>slafontaine@globalp.com @ ENRON</td>\n",
              "      <td></td>\n",
              "      <td></td>\n",
              "      <td>\\John_Arnold_Dec2000\\Notes Folders\\'sent mail</td>\n",
              "      <td>Arnold-J</td>\n",
              "      <td>Jarnold.nsf</td>\n",
              "      <td>saw a lot of the bulls sell summer against len...</td>\n",
              "      <td>NaN</td>\n",
              "      <td>NaN</td>\n",
              "    </tr>\n",
              "    <tr>\n",
              "      <th>1</th>\n",
              "      <td>&lt;19235579.1075857594400.JavaMail.evans@thyme&gt;</td>\n",
              "      <td>Mon, 11 Dec 2000 08:51:00 -0800 (PST)</td>\n",
              "      <td>john.arnold@enron.com</td>\n",
              "      <td>slafontaine@globalp.com</td>\n",
              "      <td>re:summer inverses</td>\n",
              "      <td>1.0</td>\n",
              "      <td>text/plain; charset=us-ascii</td>\n",
              "      <td>7bit</td>\n",
              "      <td>John Arnold</td>\n",
              "      <td>slafontaine@globalp.com @ ENRON</td>\n",
              "      <td></td>\n",
              "      <td></td>\n",
              "      <td>\\John_Arnold_Dec2000\\Notes Folders\\'sent mail</td>\n",
              "      <td>Arnold-J</td>\n",
              "      <td>Jarnold.nsf</td>\n",
              "      <td>amazing how with cash futures at $1 and the ba...</td>\n",
              "      <td>NaN</td>\n",
              "      <td>NaN</td>\n",
              "    </tr>\n",
              "    <tr>\n",
              "      <th>2</th>\n",
              "      <td>&lt;19835539.1075857596349.JavaMail.evans@thyme&gt;</td>\n",
              "      <td>Tue, 17 Oct 2000 11:56:00 -0700 (PDT)</td>\n",
              "      <td>john.arnold@enron.com</td>\n",
              "      <td>jennifer.fraser@enron.com</td>\n",
              "      <td>Re: congrats</td>\n",
              "      <td>1.0</td>\n",
              "      <td>text/plain; charset=us-ascii</td>\n",
              "      <td>7bit</td>\n",
              "      <td>John Arnold</td>\n",
              "      <td>Jennifer Fraser</td>\n",
              "      <td></td>\n",
              "      <td></td>\n",
              "      <td>\\John_Arnold_Dec2000\\Notes Folders\\'sent mail</td>\n",
              "      <td>Arnold-J</td>\n",
              "      <td>Jarnold.nsf</td>\n",
              "      <td>We both thank you\\n\\n\\n   \\n\\t\\n\\t\\n\\tFrom:  J...</td>\n",
              "      <td>NaN</td>\n",
              "      <td>NaN</td>\n",
              "    </tr>\n",
              "    <tr>\n",
              "      <th>3</th>\n",
              "      <td>&lt;12626409.1075857596370.JavaMail.evans@thyme&gt;</td>\n",
              "      <td>Tue, 17 Oct 2000 10:36:00 -0700 (PDT)</td>\n",
              "      <td>john.arnold@enron.com</td>\n",
              "      <td>jenwhite7@zdnetonebox.com</td>\n",
              "      <td>Re: Hi</td>\n",
              "      <td>1.0</td>\n",
              "      <td>text/plain; charset=us-ascii</td>\n",
              "      <td>7bit</td>\n",
              "      <td>John Arnold</td>\n",
              "      <td>\"Jennifer White\" &lt;jenwhite7@zdnetonebox.com&gt; @...</td>\n",
              "      <td></td>\n",
              "      <td></td>\n",
              "      <td>\\John_Arnold_Dec2000\\Notes Folders\\'sent mail</td>\n",
              "      <td>Arnold-J</td>\n",
              "      <td>Jarnold.nsf</td>\n",
              "      <td>So, what is it?   And by the way, don't start ...</td>\n",
              "      <td>NaN</td>\n",
              "      <td>NaN</td>\n",
              "    </tr>\n",
              "    <tr>\n",
              "      <th>4</th>\n",
              "      <td>&lt;13844738.1075857596392.JavaMail.evans@thyme&gt;</td>\n",
              "      <td>Tue, 17 Oct 2000 10:33:00 -0700 (PDT)</td>\n",
              "      <td>john.arnold@enron.com</td>\n",
              "      <td>msagel@home.com</td>\n",
              "      <td>Re: Thursday meeting</td>\n",
              "      <td>1.0</td>\n",
              "      <td>text/plain; charset=us-ascii</td>\n",
              "      <td>7bit</td>\n",
              "      <td>John Arnold</td>\n",
              "      <td>\"Mark Sagel\" &lt;msagel@home.com&gt; @ ENRON</td>\n",
              "      <td></td>\n",
              "      <td></td>\n",
              "      <td>\\John_Arnold_Dec2000\\Notes Folders\\'sent mail</td>\n",
              "      <td>Arnold-J</td>\n",
              "      <td>Jarnold.nsf</td>\n",
              "      <td>sure, stop by and we'll arrange a place to mee...</td>\n",
              "      <td>NaN</td>\n",
              "      <td>NaN</td>\n",
              "    </tr>\n",
              "  </tbody>\n",
              "</table>\n",
              "</div>"
            ],
            "text/plain": [
              "                                      Message-ID  ...  Bcc\n",
              "0  <33025919.1075857594206.JavaMail.evans@thyme>  ...  NaN\n",
              "1  <19235579.1075857594400.JavaMail.evans@thyme>  ...  NaN\n",
              "2  <19835539.1075857596349.JavaMail.evans@thyme>  ...  NaN\n",
              "3  <12626409.1075857596370.JavaMail.evans@thyme>  ...  NaN\n",
              "4  <13844738.1075857596392.JavaMail.evans@thyme>  ...  NaN\n",
              "\n",
              "[5 rows x 18 columns]"
            ]
          },
          "metadata": {
            "tags": []
          },
          "execution_count": 10
        }
      ]
    },
    {
      "cell_type": "code",
      "metadata": {
        "id": "St3CkC4qDjPs",
        "colab_type": "code",
        "outputId": "8cf79992-9af8-45ab-eb4e-817d8bc0c9f7",
        "colab": {
          "base_uri": "https://localhost:8080/",
          "height": 204
        }
      },
      "source": [
        "#We mainly need the content of the emails for classification. It can be scaled to include other features as well\n",
        "final_data = pd.DataFrame(list(map(content_preprocessing, final_data[['Subject', 'content']].apply(lambda x: ' '.join(x), axis=1))), columns = [\"content\"])\n",
        "# final_data.head()\n",
        "final_data = final_data.assign(user_number= sent_user_dataset[\"sender\"].values)\n",
        "final_data = final_data.replace({'user_number': mapping})\n",
        "final_data.head()"
      ],
      "execution_count": 11,
      "outputs": [
        {
          "output_type": "execute_result",
          "data": {
            "text/html": [
              "<div>\n",
              "<style scoped>\n",
              "    .dataframe tbody tr th:only-of-type {\n",
              "        vertical-align: middle;\n",
              "    }\n",
              "\n",
              "    .dataframe tbody tr th {\n",
              "        vertical-align: top;\n",
              "    }\n",
              "\n",
              "    .dataframe thead th {\n",
              "        text-align: right;\n",
              "    }\n",
              "</style>\n",
              "<table border=\"1\" class=\"dataframe\">\n",
              "  <thead>\n",
              "    <tr style=\"text-align: right;\">\n",
              "      <th></th>\n",
              "      <th>content</th>\n",
              "      <th>user_number</th>\n",
              "    </tr>\n",
              "  </thead>\n",
              "  <tbody>\n",
              "    <tr>\n",
              "      <th>0</th>\n",
              "      <td>spreads saw lot bulls sell summer length front...</td>\n",
              "      <td>14</td>\n",
              "    </tr>\n",
              "    <tr>\n",
              "      <th>1</th>\n",
              "      <td>summer inverses amazing cash futures back piec...</td>\n",
              "      <td>14</td>\n",
              "    </tr>\n",
              "    <tr>\n",
              "      <th>2</th>\n",
              "      <td>congrats thank jennifer fraser pm john arnold ...</td>\n",
              "      <td>14</td>\n",
              "    </tr>\n",
              "    <tr>\n",
              "      <th>3</th>\n",
              "      <td>hi way start excuses expected full gourmet coo...</td>\n",
              "      <td>14</td>\n",
              "    </tr>\n",
              "    <tr>\n",
              "      <th>4</th>\n",
              "      <td>thursday meeting sure stop arrange place meet ...</td>\n",
              "      <td>14</td>\n",
              "    </tr>\n",
              "  </tbody>\n",
              "</table>\n",
              "</div>"
            ],
            "text/plain": [
              "                                             content  user_number\n",
              "0  spreads saw lot bulls sell summer length front...           14\n",
              "1  summer inverses amazing cash futures back piec...           14\n",
              "2  congrats thank jennifer fraser pm john arnold ...           14\n",
              "3  hi way start excuses expected full gourmet coo...           14\n",
              "4  thursday meeting sure stop arrange place meet ...           14"
            ]
          },
          "metadata": {
            "tags": []
          },
          "execution_count": 11
        }
      ]
    },
    {
      "cell_type": "code",
      "metadata": {
        "id": "1Ly181VnGylq",
        "colab_type": "code",
        "colab": {}
      },
      "source": [
        "#Splitting the data into training and testing\n",
        "X = final_data.content.values\n",
        "y = final_data.user_number.values\n",
        "X_train, X_test, y_train, y_test = train_test_split(X, y, test_size=0.2)"
      ],
      "execution_count": 0,
      "outputs": []
    },
    {
      "cell_type": "code",
      "metadata": {
        "id": "gMHYGOMdH_z2",
        "colab_type": "code",
        "colab": {}
      },
      "source": [
        "#Processing the text data and creating TFId vector of each text\n",
        "vect = TfidfVectorizer(sublinear_tf=True, use_idf=True)\n",
        "X_train = vect.fit_transform(X_train)\n",
        "X_test = vect.transform(X_test)"
      ],
      "execution_count": 0,
      "outputs": []
    },
    {
      "cell_type": "code",
      "metadata": {
        "id": "pohMupfGN6fW",
        "colab_type": "code",
        "outputId": "7a079946-d255-4fae-992b-028cbec0c8cb",
        "colab": {
          "base_uri": "https://localhost:8080/",
          "height": 187
        }
      },
      "source": [
        "#Performing feature selection and finding out the best model for our classfication task\n",
        "clf = LogisticRegression()\n",
        "clf.fit(X_train, y_train)\n",
        "model = SelectFromModel(clf, prefit=True)\n",
        "X_train_new = model.transform(X_train)\n",
        "classifier_str = [\"LinearSVC\", \"SGDClassifier\"]\n",
        "classifier_main = [LinearSVC, SGDClassifier]\n",
        "for classifier_str,classifier in zip(classifier_str, classifier_main):\n",
        "    print(\"Classifier: \" + str(classifier_str) +\",  Cross validation Accuracy: \" + str(cross_val_score(classifier(), X_train_new, y_train, cv=3).mean()))"
      ],
      "execution_count": 17,
      "outputs": [
        {
          "output_type": "stream",
          "text": [
            "/usr/local/lib/python3.6/dist-packages/sklearn/linear_model/_logistic.py:940: ConvergenceWarning: lbfgs failed to converge (status=1):\n",
            "STOP: TOTAL NO. of ITERATIONS REACHED LIMIT.\n",
            "\n",
            "Increase the number of iterations (max_iter) or scale the data as shown in:\n",
            "    https://scikit-learn.org/stable/modules/preprocessing.html\n",
            "Please also refer to the documentation for alternative solver options:\n",
            "    https://scikit-learn.org/stable/modules/linear_model.html#logistic-regression\n",
            "  extra_warning_msg=_LOGISTIC_SOLVER_CONVERGENCE_MSG)\n"
          ],
          "name": "stderr"
        },
        {
          "output_type": "stream",
          "text": [
            "Classifier: LinearSVC,  Cross validation Accuracy: 0.9451853935728116\n",
            "Classifier: SGDClassifier,  Cross validation Accuracy: 0.938035693653616\n"
          ],
          "name": "stdout"
        }
      ]
    },
    {
      "cell_type": "code",
      "metadata": {
        "id": "SO0trrf3UwvH",
        "colab_type": "code",
        "colab": {}
      },
      "source": [
        "#Mapping for preprocessing all users\n",
        "\n",
        "# users = dataset_sent_mails[\"sender\"].value_counts().index.values\n",
        "# mapping = {}\n",
        "# for i, user in enumerate(users, start = 1):\n",
        "  \n",
        "#   mapping[user] = i\n",
        "# sent_user_dataset = dataset_sent_mails\n",
        "# final_data = pd.DataFrame(list(map(email_preprocessing, sent_user_dataset.message)))"
      ],
      "execution_count": 0,
      "outputs": []
    },
    {
      "cell_type": "code",
      "metadata": {
        "id": "F1s3yKlvyaFP",
        "colab_type": "code",
        "colab": {}
      },
      "source": [
        "# final_data = pd.DataFrame(list(map(content_preprocessing, final_data[['Subject', 'content']].apply(lambda x: ' '.join(x), axis=1))), columns = [\"content\"])\n",
        "# # final_data.head()\n",
        "# final_data = final_data.assign(user_number= sent_user_dataset[\"sender\"].values)\n",
        "# final_data = final_data.replace({'user_number': mapping})\n",
        "# final_data.head()"
      ],
      "execution_count": 0,
      "outputs": []
    },
    {
      "cell_type": "code",
      "metadata": {
        "id": "q-dGOtJJy6YS",
        "colab_type": "code",
        "colab": {}
      },
      "source": [
        "# X = final_data.content.values\n",
        "# y = final_data.user_number.values\n",
        "# X_train, X_test, y_train, y_test = train_test_split(X, y, test_size=0.2)\n",
        "# vect = TfidfVectorizer(sublinear_tf=True, use_idf=True)\n",
        "# X_train = vect.fit_transform(X_train)\n",
        "# X_test = vect.transform(X_test)\n",
        "# clf = LogisticRegression()\n",
        "# clf.fit(X_train, y_train)\n",
        "# model = SelectFromModel(clf, prefit=True)\n",
        "# X_train_new = model.transform(X_train)\n",
        "# for classifier in [LinearSVC, SGDClassifier, RandomForestClassifier]:\n",
        "#     print(cross_val_score(classifier(), X_train_new, y_train, cv=3).mean())"
      ],
      "execution_count": 0,
      "outputs": []
    },
    {
      "cell_type": "code",
      "metadata": {
        "id": "Yu24ZCRa9FGp",
        "colab_type": "code",
        "outputId": "db1cde25-d567-4165-da5d-9b0138679938",
        "colab": {
          "base_uri": "https://localhost:8080/",
          "height": 34
        }
      },
      "source": [
        "#Testing the best on test data\n",
        "classifier = LinearSVC()\n",
        "classifier.fit(X_train_new, y_train)\n",
        "X_test_ = model.transform(X_test)\n",
        "y_predicted = classifier.predict(X_test_)\n",
        "print(\"Accuracy: \",metrics.accuracy_score(y_test, y_predicted))"
      ],
      "execution_count": 21,
      "outputs": [
        {
          "output_type": "stream",
          "text": [
            "Accuracy:  0.9572706748055857\n"
          ],
          "name": "stdout"
        }
      ]
    },
    {
      "cell_type": "code",
      "metadata": {
        "id": "ZL8n7Qyn9sEg",
        "colab_type": "code",
        "outputId": "37d4ae89-802c-4a80-f842-eebdea01a0e1",
        "colab": {
          "base_uri": "https://localhost:8080/",
          "height": 34
        }
      },
      "source": [
        "#Experimenting on truncatedSVD for feature selection\n",
        "tsvd = TruncatedSVD(n_components = 120)\n",
        "X_train_pca = tsvd.fit_transform(X_train)\n",
        "X_test_pca = tsvd.transform(X_test)\n",
        "\n",
        "clf = LinearSVC()\n",
        "clf.fit(X_train_pca, y_train)\n",
        "\n",
        "print(\"Accuracy: \",metrics.accuracy_score(y_test, clf.predict(X_test_pca)))"
      ],
      "execution_count": 23,
      "outputs": [
        {
          "output_type": "stream",
          "text": [
            "Accuracy:  0.9029183042060372\n"
          ],
          "name": "stdout"
        }
      ]
    },
    {
      "cell_type": "code",
      "metadata": {
        "id": "AHNupqGXVNgQ",
        "colab_type": "code",
        "colab": {}
      },
      "source": [
        ""
      ],
      "execution_count": 0,
      "outputs": []
    }
  ]
}